{
 "cells": [
  {
   "cell_type": "code",
   "execution_count": 1,
   "metadata": {},
   "outputs": [],
   "source": [
    "import pandas as pd\n",
    "import numpy as np"
   ]
  },
  {
   "cell_type": "code",
   "execution_count": 2,
   "metadata": {},
   "outputs": [],
   "source": [
    "survey = pd.read_csv(\"./survey.csv\")"
   ]
  },
  {
   "cell_type": "code",
   "execution_count": 3,
   "metadata": {},
   "outputs": [],
   "source": [
    "columns_rename = {\n",
    "\n",
    "\"Adopting a social media management tool is attractive to me.\": \"ME1\",\n",
    "\n",
    "\"Adopting a social media management tool is cost-effective.\": \"ME2\",\n",
    "\n",
    "\"A social media management tool is easy to get and purchase.\": \"ME3\",\n",
    "\n",
    "\"Mass media affects my decision to use a social media management tool.\": \"SI1\",\n",
    "\n",
    "\"Expert-opinion affects my decision to use a social media management tool.\": \"SI2\",\n",
    "\n",
    "\"The word-of-mouth affects my decision to use a social media management tool.\": \"SI3\",\n",
    "\n",
    "\"Adopting a social media management tool is a way to follow a trend in my industry.\": \"PB1\",\n",
    "\n",
    "\"Adopting a social media management tool is a symbol of prestige.\": \"PB2\",\n",
    "\n",
    "\"Adopting a social media management tool is a way to increase confidence.\": \"PB3\",\n",
    "\n",
    "\"I am interested in news about social media management tools.\": \"AtTI1\",\n",
    "\n",
    "\"I enjoy trying new techonlogies and services.\": \"AtTI2\",\n",
    "\n",
    "\"I want to be a pioneer by using social media management tools.\": \"AtTI3\",\n",
    "\n",
    "\"Adopting a social media management tool enables me to do my job faster.\": \"PU1\",\n",
    "\n",
    "\"Adopting a social media management tool enables me to do my job better.\": \"PU2\",\n",
    "\n",
    "\"Adopting a social media management tool improves my performance.\": \"PU3\",\n",
    "\n",
    "\"Adopting a social media management tool makes me more competitive.\": \"PU4\",\n",
    "\n",
    "\"The user interface of social media management tools is <em><strong>generally</strong></em> friendly.\": \"PEoU1\",\n",
    "\n",
    "\"Using a social media management tool is understandable.\": \"PEoU2\",\n",
    "\n",
    "\"It is easy to learn using a social media management tool.\": \"PEoU3\",\n",
    "\n",
    "\"It is easy to make use of social media management tools.\": \"PEoU4\",\n",
    "\n",
    "\"Overall, I intend to use a social media management tool in the future.\": \"BI\"\n",
    "\n",
    "}"
   ]
  },
  {
   "cell_type": "code",
   "execution_count": 4,
   "metadata": {},
   "outputs": [],
   "source": [
    "survey.rename(columns=columns_rename, inplace=True)"
   ]
  },
  {
   "cell_type": "code",
   "execution_count": 5,
   "metadata": {},
   "outputs": [],
   "source": [
    "survey.drop(columns=[\"#\", \"Start Date (UTC)\", \"Submit Date (UTC)\", \"Network ID\"], inplace=True)"
   ]
  },
  {
   "cell_type": "code",
   "execution_count": 6,
   "metadata": {},
   "outputs": [],
   "source": [
    "def svar(X):\n",
    "    n = float(len(X))\n",
    "    svar=(sum([(x-np.mean(X))**2 for x in X]) / n)* n/(n-1.)\n",
    "    return svar\n",
    "\n",
    "\n",
    "def CronbachAlpha(itemscores):\n",
    "    itemvars = [svar(item) for item in itemscores]\n",
    "    tscores = [0] * len(itemscores[0])\n",
    "    for item in itemscores:\n",
    "        for i in range(len(item)):\n",
    "            tscores[i]+= item[i]\n",
    "    nitems = len(itemscores)\n",
    "    #print \"total scores=\", tscores, 'number of items=', nitems\n",
    "\n",
    "    Calpha=nitems/(nitems-1.) * (1-sum(itemvars)/ svar(tscores))\n",
    "\n",
    "    return Calpha"
   ]
  },
  {
   "cell_type": "code",
   "execution_count": 27,
   "metadata": {},
   "outputs": [],
   "source": [
    "survey.fillna(method=\"pad\", inplace=True)"
   ]
  },
  {
   "cell_type": "code",
   "execution_count": 28,
   "metadata": {},
   "outputs": [],
   "source": [
    "me = survey[[\"ME{}\".format(i) for i in range(1, 4)]]\n",
    "si = survey[[\"SI{}\".format(i) for i in range(1, 4)]]\n",
    "pb = survey[[\"PB{}\".format(i) for i in range(1, 4)]]\n",
    "atti = survey[[\"AtTI{}\".format(i) for i in range(1, 4)]]\n",
    "pu = survey[[\"PU{}\".format(i) for i in range(1, 5)]]\n",
    "peou = survey[[\"PEoU{}\".format(i) for i in range(1, 4)]]"
   ]
  },
  {
   "cell_type": "code",
   "execution_count": 29,
   "metadata": {},
   "outputs": [],
   "source": [
    "def CronbachAlpha(itemscores):\n",
    "    itemscores = np.asarray(itemscores)\n",
    "    itemvars = itemscores.var(axis=1, ddof=1)\n",
    "    tscores = itemscores.sum(axis=0)\n",
    "    nitems = len(itemscores)\n",
    "\n",
    "    return nitems / (nitems-1.) * (1 - itemvars.sum() / tscores.var(ddof=1))"
   ]
  },
  {
   "cell_type": "code",
   "execution_count": 35,
   "metadata": {},
   "outputs": [
    {
     "data": {
      "text/plain": [
       "0.6837144622991351"
      ]
     },
     "execution_count": 35,
     "metadata": {},
     "output_type": "execute_result"
    }
   ],
   "source": [
    "CronbachAlpha(peou.transpose().values.tolist())"
   ]
  },
  {
   "cell_type": "code",
   "execution_count": null,
   "metadata": {},
   "outputs": [],
   "source": []
  }
 ],
 "metadata": {
  "kernelspec": {
   "display_name": "Python 3",
   "language": "python",
   "name": "python3"
  },
  "language_info": {
   "codemirror_mode": {
    "name": "ipython",
    "version": 3
   },
   "file_extension": ".py",
   "mimetype": "text/x-python",
   "name": "python",
   "nbconvert_exporter": "python",
   "pygments_lexer": "ipython3",
   "version": "3.6.4"
  }
 },
 "nbformat": 4,
 "nbformat_minor": 2
}
